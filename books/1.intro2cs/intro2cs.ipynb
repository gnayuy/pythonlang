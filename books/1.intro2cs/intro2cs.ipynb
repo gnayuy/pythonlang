{
 "cells": [
  {
   "cell_type": "markdown",
   "metadata": {
    "collapsed": true
   },
   "source": [
    "#### Note of \"Introduction to computer science using Python\"\n"
   ]
  },
  {
   "cell_type": "code",
   "execution_count": 67,
   "metadata": {},
   "outputs": [
    {
     "name": "stdout",
     "output_type": "stream",
     "text": [
      "1024\n(1, 20)\n0.1024\n(1, 24.46)\n"
     ]
    }
   ],
   "source": [
    "# A numeric literal is a literal containing only the digits 0–9, a sign character (1 or 2) and a\n",
    "# possible decimal point. Commas are never used in numeric literals.\n",
    "\n",
    "print(1024)\n",
    "print(1,024)\n",
    "print(.1024)\n",
    "print(1,024.46)"
   ]
  },
  {
   "cell_type": "code",
   "execution_count": 12,
   "metadata": {},
   "outputs": [
    {
     "data": {
      "text/plain": [
       "inf"
      ]
     },
     "execution_count": 12,
     "metadata": {},
     "output_type": "execute_result"
    }
   ],
   "source": [
    "#Arithmetic overfl ow occurs when a calculated result is too large in magnitude to be represented.\n",
    "\n",
    "1.5e200 * 2.0e210"
   ]
  },
  {
   "cell_type": "code",
   "execution_count": 15,
   "metadata": {},
   "outputs": [
    {
     "data": {
      "text/plain": [
       "0.0"
      ]
     },
     "execution_count": 15,
     "metadata": {},
     "output_type": "execute_result"
    }
   ],
   "source": [
    "#Arithmetic underfl ow occurs when a calculated result is too small in magnitude to be represented.\n",
    "\n",
    "1.2e-200 / 2.4e200"
   ]
  },
  {
   "cell_type": "code",
   "execution_count": 21,
   "metadata": {},
   "outputs": [
    {
     "data": {
      "text/plain": [
       "0.6000000000000001"
      ]
     },
     "execution_count": 21,
     "metadata": {},
     "output_type": "execute_result"
    }
   ],
   "source": [
    "6 * (1/10.0)"
   ]
  },
  {
   "cell_type": "code",
   "execution_count": 20,
   "metadata": {},
   "outputs": [
    {
     "data": {
      "text/plain": [
       "0.6"
      ]
     },
     "execution_count": 20,
     "metadata": {},
     "output_type": "execute_result"
    }
   ],
   "source": [
    "6 * 1/10.0"
   ]
  },
  {
   "cell_type": "code",
   "execution_count": 22,
   "metadata": {},
   "outputs": [
    {
     "data": {
      "text/plain": [
       "0.30000000000000004"
      ]
     },
     "execution_count": 22,
     "metadata": {},
     "output_type": "execute_result"
    }
   ],
   "source": [
    "1/10.0 + 1/10.0 + 1/10.0"
   ]
  },
  {
   "cell_type": "code",
   "execution_count": 24,
   "metadata": {},
   "outputs": [
    {
     "data": {
      "text/plain": [
       "1.0"
      ]
     },
     "execution_count": 24,
     "metadata": {},
     "output_type": "execute_result"
    }
   ],
   "source": [
    "10 * (1/10.0)"
   ]
  },
  {
   "cell_type": "code",
   "execution_count": 26,
   "metadata": {},
   "outputs": [
    {
     "data": {
      "text/plain": [
       "'2.40'"
      ]
     },
     "execution_count": 26,
     "metadata": {},
     "output_type": "execute_result"
    }
   ],
   "source": [
    "format(12/5.0, '.2f')"
   ]
  },
  {
   "cell_type": "code",
   "execution_count": 27,
   "metadata": {},
   "outputs": [
    {
     "data": {
      "text/plain": [
       "'1.267651e+30'"
      ]
     },
     "execution_count": 27,
     "metadata": {},
     "output_type": "execute_result"
    }
   ],
   "source": [
    "format(2 ** 100, '.6e')"
   ]
  },
  {
   "cell_type": "code",
   "execution_count": 28,
   "metadata": {},
   "outputs": [
    {
     "name": "stdout",
     "output_type": "stream",
     "text": [
      "('Your cost: $', '14.03')\n"
     ]
    }
   ],
   "source": [
    "tax = 0.08\n",
    "print('Your cost: $', format((1 + tax) * 12.99, '.2f'))"
   ]
  },
  {
   "cell_type": "code",
   "execution_count": 29,
   "metadata": {},
   "outputs": [
    {
     "data": {
      "text/plain": [
       "'A'"
      ]
     },
     "execution_count": 29,
     "metadata": {},
     "output_type": "execute_result"
    }
   ],
   "source": [
    "chr(65)"
   ]
  },
  {
   "cell_type": "code",
   "execution_count": 31,
   "metadata": {},
   "outputs": [
    {
     "data": {
      "text/plain": [
       "49"
      ]
     },
     "execution_count": 31,
     "metadata": {},
     "output_type": "execute_result"
    }
   ],
   "source": [
    "# Unicode Encoding\n",
    "ord('1')"
   ]
  },
  {
   "cell_type": "code",
   "execution_count": 59,
   "metadata": {},
   "outputs": [
    {
     "name": "stdout",
     "output_type": "stream",
     "text": [
      "(0.098, 459, 44.982)\n459 0.098 44.982\nSpam & Eggs:           6.99\n        Spam & Eggs:   6.99\n--------------Spam & Eggs:--------------\nThe value is 5,897,653,423.897\nvarious precisions:   1.41 or  1.415\nFirst argument: 47, second one: 11\nFirst argument: 47, second one: 11\nSecond argument:  11, first one:   47.42\n"
     ]
    }
   ],
   "source": [
    "q = 459\n",
    "p = 0.098\n",
    "\n",
    "print(p, q, p * q)\n",
    "#print(p, q, p * q, sep=\",\")\n",
    "print(str(q) + \" \" + str(p) + \" \" + str(p * q))\n",
    "\n",
    "print(\"{0:<20s} {1:6.2f}\".format('Spam & Eggs:', 6.99))\n",
    "print(\"{0:>20s} {1:6.2f}\".format('Spam & Eggs:', 6.99))\n",
    "\n",
    "print(\"{:-^40s}\".format('Spam & Eggs:'))\n",
    "\n",
    "x = 5897653423.89676\n",
    "print(\"The value is {0:12,.3f}\".format(x))\n",
    "\n",
    "print(\"various precisions: {0:6.2f} or {0:6.3f}\".format(1.4148))\n",
    "print(\"First argument: {}, second one: {}\".format(47,11))\n",
    "print(\"First argument: {0}, second one: {1}\".format(47,11) )\n",
    "print(\"Second argument: {1:3d}, first one: {0:7.2f}\".format(47.42,11))"
   ]
  },
  {
   "cell_type": "code",
   "execution_count": 47,
   "metadata": {},
   "outputs": [
    {
     "name": "stdout",
     "output_type": "stream",
     "text": [
      "The capital of Ontario is Toronto\nThe capital of Ontario is Toronto\n"
     ]
    }
   ],
   "source": [
    "print(\"The capital of {province} is {capital}\".format(province=\"Ontario\",capital=\"Toronto\"))\n",
    "\n",
    "data = dict(province=\"Ontario\",capital=\"Toronto\")\n",
    "print(\"The capital of {province} is {capital}\".format(**data))"
   ]
  },
  {
   "cell_type": "code",
   "execution_count": 49,
   "metadata": {},
   "outputs": [
    {
     "name": "stdout",
     "output_type": "stream",
     "text": [
      "Countries and their capitals:\nUnited States: Washington\nCanada: Ottawa\nAustria: Vienna\nNetherlands: Amsterdam\nGermany: Berlin\nUK: London\nSwitzerland: Bern\nEngland: London\nUS: Washington\nFrance: Paris\n"
     ]
    }
   ],
   "source": [
    "capital_country = {\"United States\" : \"Washington\", \n",
    "                   \"US\" : \"Washington\", \n",
    "                   \"Canada\" : \"Ottawa\",\n",
    "                   \"Germany\": \"Berlin\",\n",
    "                   \"France\" : \"Paris\",\n",
    "                   \"England\" : \"London\",\n",
    "                   \"UK\" : \"London\",\n",
    "                   \"Switzerland\" : \"Bern\",\n",
    "                   \"Austria\" : \"Vienna\",\n",
    "                   \"Netherlands\" : \"Amsterdam\"}\n",
    "\n",
    "print(\"Countries and their capitals:\")\n",
    "for c in capital_country:\n",
    "    #print(\"{country}: {capital}\".format(country=c, capital=capital_country[c]))\n",
    "    format_string = c + \": {\" + c + \"}\" \n",
    "    print(format_string.format(**capital_country))"
   ]
  },
  {
   "cell_type": "code",
   "execution_count": 60,
   "metadata": {},
   "outputs": [
    {
     "data": {
      "text/plain": [
       "4301309008"
      ]
     },
     "execution_count": 60,
     "metadata": {},
     "output_type": "execute_result"
    }
   ],
   "source": [
    "# variable\n",
    "\n",
    "num = 10\n",
    "\n",
    "id(num)"
   ]
  },
  {
   "cell_type": "code",
   "execution_count": 71,
   "metadata": {},
   "outputs": [
    {
     "data": {
      "text/plain": [
       "31.4159"
      ]
     },
     "execution_count": 71,
     "metadata": {},
     "output_type": "execute_result"
    }
   ],
   "source": [
    "pi = 3.14159\n",
    "\n",
    "def area(radius):\n",
    "    return pi*(radius**2)\n",
    "\n",
    "def circumference(radius):\n",
    "    return 2*pi*radius\n",
    "\n",
    "radius = 5\n",
    "area(radius)\n",
    "circumference(radius)"
   ]
  },
  {
   "cell_type": "code",
   "execution_count": 78,
   "metadata": {},
   "outputs": [],
   "source": [
    "#y = float(raw_input('Enter a number: '))\n",
    "#print(y*y)\n",
    "\n",
    "#print(input())\n",
    "\n",
    "try:\n",
    "    input = raw_input\n",
    "except NameError: #Python 3\n",
    "    pass"
   ]
  },
  {
   "cell_type": "code",
   "execution_count": 79,
   "metadata": {},
   "outputs": [
    {
     "name": "stdout",
     "output_type": "stream",
     "text": [
      "\nOdd\n"
     ]
    }
   ],
   "source": [
    "x = 5\n",
    "\n",
    "if x%2 == 0:\n",
    "    print('')\n",
    "    print('Even')\n",
    "else:\n",
    "    print('')\n",
    "    print('Odd')"
   ]
  },
  {
   "cell_type": "code",
   "execution_count": 82,
   "metadata": {},
   "outputs": [
    {
     "name": "stdout",
     "output_type": "stream",
     "text": [
      "Cube root of 27 is 3\n"
     ]
    }
   ],
   "source": [
    "x = 27\n",
    "ans = 0\n",
    "\n",
    "while ans**3 < abs(x):\n",
    "    ans = ans + 1\n",
    "if ans**3 != abs(x):\n",
    "    print(x, 'is not a perfect cube')\n",
    "else:\n",
    "    if x < 0:\n",
    "        ans = -ans\n",
    "    print('Cube root of', x,'is', ans)"
   ]
  },
  {
   "cell_type": "code",
   "execution_count": 83,
   "metadata": {},
   "outputs": [
    {
     "name": "stdout",
     "output_type": "stream",
     "text": [
      "0\n1\n2\n3\n0\n1\n0\n1\n0\n1\n"
     ]
    }
   ],
   "source": [
    "x = 4\n",
    "for j in range(x):\n",
    "    for i in range(x):\n",
    "        print(i)\n",
    "        x = 2"
   ]
  },
  {
   "cell_type": "code",
   "execution_count": 84,
   "metadata": {},
   "outputs": [
    {
     "name": "stdout",
     "output_type": "stream",
     "text": [
      "Cube root of 8 is 2\n"
     ]
    }
   ],
   "source": [
    "x = 8\n",
    "\n",
    "for ans in range(0, abs(x)+1):\n",
    "    if ans**3 >= abs(x):\n",
    "        break\n",
    "if ans**3 != abs(x):\n",
    "    print(x, 'is not a perfect cube')\n",
    "else:\n",
    "    if x < 0:\n",
    "        ans = -ans\n",
    "    print('Cube root of', x,'is', ans)"
   ]
  },
  {
   "cell_type": "code",
   "execution_count": 85,
   "metadata": {},
   "outputs": [
    {
     "name": "stdout",
     "output_type": "stream",
     "text": [
      "45\n"
     ]
    }
   ],
   "source": [
    "total = 0\n",
    "for c in '123456789':\n",
    "    total = total + int(c)\n",
    "print(total)"
   ]
  },
  {
   "cell_type": "code",
   "execution_count": 93,
   "metadata": {},
   "outputs": [
    {
     "name": "stdout",
     "output_type": "stream",
     "text": [
      "numGuesses = 49990\n4.999 is close to the square root of 25\n"
     ]
    }
   ],
   "source": [
    "# square root\n",
    "\n",
    "x = 25\n",
    "epsilon = 0.01\n",
    "step = epsilon**2\n",
    "numGuesses = 0\n",
    "ans = 0.0\n",
    "while (abs(ans**2 - x)) >= epsilon and ans <= x:\n",
    "    ans += step\n",
    "    numGuesses += 1\n",
    "print('numGuesses = ' + str(numGuesses))\n",
    "if abs(ans**2-x) >= epsilon:\n",
    "    print('Failed on square root of ' + str(x))\n",
    "else:\n",
    "    print(str(ans) + ' is close to the square root of ' + str(x))"
   ]
  },
  {
   "cell_type": "code",
   "execution_count": 95,
   "metadata": {},
   "outputs": [
    {
     "name": "stdout",
     "output_type": "stream",
     "text": [
      "low = 0.0 high = 12345 ans = 6172.5\nlow = 0.0 high = 6172.5 ans = 3086.25\nlow = 0.0 high = 3086.25 ans = 1543.125\nlow = 0.0 high = 1543.125 ans = 771.5625\nlow = 0.0 high = 771.5625 ans = 385.78125\nlow = 0.0 high = 385.78125 ans = 192.890625\nlow = 0.0 high = 192.890625 ans = 96.4453125\nlow = 96.4453125 high = 192.890625 ans = 144.66796875\nlow = 96.4453125 high = 144.66796875 ans = 120.556640625\nlow = 96.4453125 high = 120.556640625 ans = 108.500976562\nlow = 108.500976562 high = 120.556640625 ans = 114.528808594\nlow = 108.500976562 high = 114.528808594 ans = 111.514892578\nlow = 108.500976562 high = 111.514892578 ans = 110.00793457\nlow = 110.00793457 high = 111.514892578 ans = 110.761413574\nlow = 110.761413574 high = 111.514892578 ans = 111.138153076\nlow = 110.761413574 high = 111.138153076 ans = 110.949783325\nlow = 110.949783325 high = 111.138153076 ans = 111.043968201\nlow = 111.043968201 high = 111.138153076 ans = 111.091060638\nlow = 111.091060638 high = 111.138153076 ans = 111.114606857\nlow = 111.091060638 high = 111.114606857 ans = 111.102833748\nlow = 111.102833748 high = 111.114606857 ans = 111.108720303\nlow = 111.102833748 high = 111.108720303 ans = 111.105777025\nlow = 111.105777025 high = 111.108720303 ans = 111.107248664\nlow = 111.107248664 high = 111.108720303 ans = 111.107984483\nlow = 111.107984483 high = 111.108720303 ans = 111.108352393\nlow = 111.107984483 high = 111.108352393 ans = 111.108168438\nnumGuesses = 26\n111.108076461 is close to square root of 12345\n7.0\n5.21428571429\n4.90851272016\n4.89898874321\nSquare root of 24.0 is about 4.89898874321\n"
     ]
    }
   ],
   "source": [
    "# bisection search for square root\n",
    "\n",
    "x = 12345\n",
    "epsilon = 0.01\n",
    "numGuesses = 0\n",
    "low = 0.0\n",
    "high = x\n",
    "ans = (high + low)/2.0\n",
    "while abs(ans**2 - x) >= epsilon:\n",
    "    print('low = ' + str(low) + ' high = ' + str(high) + ' ans = ' + str(ans))\n",
    "    numGuesses += 1\n",
    "    if ans**2 < x:\n",
    "        low = ans\n",
    "    else:\n",
    "        high = ans\n",
    "    ans = (high + low)/2.0\n",
    "print('numGuesses = ' + str(numGuesses))\n",
    "print(str(ans) + ' is close to square root of ' + str(x))\n",
    "\n",
    "# Newton-Raphson for square root\n",
    "\n",
    "epsilon = 0.01\n",
    "y = 24.0\n",
    "guess = y/2.0\n",
    "\n",
    "while abs(guess*guess - y) >= epsilon:\n",
    "    guess = guess - (((guess**2) - y)/(2*guess))\n",
    "    print(guess)\n",
    "print('Square root of ' + str(y) + ' is about ' + str(guess))"
   ]
  },
  {
   "cell_type": "code",
   "execution_count": 89,
   "metadata": {},
   "outputs": [
    {
     "name": "stdout",
     "output_type": "stream",
     "text": [
      "3*3 = 9\n"
     ]
    }
   ],
   "source": [
    "# repetitive addition\n",
    "\n",
    "x = 3\n",
    "ans = 0\n",
    "itersLeft = x\n",
    "while (itersLeft != 0):\n",
    "    ans = ans + x\n",
    "    itersLeft = itersLeft -1\n",
    "print(str(x) + '*' + str(x) + ' = ' +str(ans))"
   ]
  },
  {
   "cell_type": "code",
   "execution_count": 91,
   "metadata": {},
   "outputs": [
    {
     "name": "stdout",
     "output_type": "stream",
     "text": [
      "100101110\n"
     ]
    }
   ],
   "source": [
    "num = 302\n",
    "\n",
    "if num < 0:\n",
    "    isNeg = True\n",
    "    num = abs(num)\n",
    "else:\n",
    "    isNeg = False\n",
    "result = ''\n",
    "if num == 0:\n",
    "    result = '0'\n",
    "while num > 0:\n",
    "    result = str(num%2) + result\n",
    "    num = num/2\n",
    "if isNeg:\n",
    "    result = '-' + result\n",
    "    \n",
    "print(result)"
   ]
  },
  {
   "cell_type": "code",
   "execution_count": 92,
   "metadata": {},
   "outputs": [
    {
     "name": "stdout",
     "output_type": "stream",
     "text": [
      "Remainder = 0.5\nThe binary representation of the decimal 4.5 is 100.1\n"
     ]
    }
   ],
   "source": [
    "x = 4.5\n",
    "p = 0\n",
    "while ((2**p)*x)%1 != 0:\n",
    "    print('Remainder = ' + str((2**p)*x - int((2**p)*x)))\n",
    "    p += 1\n",
    "\n",
    "num = int(x*(2**p))\n",
    "\n",
    "result = ''\n",
    "if num == 0:\n",
    "    result = '0'\n",
    "while num > 0:\n",
    "    result = str(num%2) + result\n",
    "    num = num/2\n",
    "\n",
    "for i in range(p - len(result)):\n",
    "    result = '0' + result\n",
    "\n",
    "result = result[0:-p] + '.' + result[-p:]\n",
    "print('The binary representation of the decimal ' + str(x) + ' is ' + str(result))"
   ]
  },
  {
   "cell_type": "code",
   "execution_count": 96,
   "metadata": {},
   "outputs": [
    {
     "name": "stdout",
     "output_type": "stream",
     "text": [
      "4.99992370605\n2.99998474121\n-2.99998474121\n0.5\n-0.5\n"
     ]
    }
   ],
   "source": [
    "def findRoot3(x, power, epsilon):\n",
    "    if x < 0 and power%2 == 0:\n",
    "        return None\n",
    "    # can't find even powered root of negative number\n",
    "    low = min(-1.0, x)\n",
    "    high = max(1.0, x)\n",
    "    ans = (high+low)/2.0\n",
    "    while abs(ans**power - x) > epsilon:\n",
    "        if ans**power < x:\n",
    "            low = ans\n",
    "        else:\n",
    "            high = ans\n",
    "        ans = (high+low)/2.0\n",
    "    return ans\n",
    "\n",
    "print(findRoot3(25.0, 2, .001))\n",
    "print(findRoot3(27.0, 3, .001))\n",
    "print(findRoot3(-27.0, 3, .001))\n",
    "\n",
    "print(findRoot3(0.25, 2, .001))\n",
    "print(findRoot3(-0.125, 3, .001))\n",
    "\n",
    "def testFindRoot():\n",
    "    epsilon = 0.0001\n",
    "    for x in (0.25, -0.25, 2, -2, 8, -8):\n",
    "        for power in range(1,4):\n",
    "            print('Testing x = ' + str(x) +\\\n",
    "                  ' and power = ' + str(power))\n",
    "            res = findRoot3(x, power, epsilon)\n",
    "            if res == None:\n",
    "                print('    No root')\n",
    "            else:\n",
    "                print('    ' + str(res**power) + ' ~= ' + str(x))"
   ]
  },
  {
   "cell_type": "code",
   "execution_count": 100,
   "metadata": {},
   "outputs": [
    {
     "name": "stdout",
     "output_type": "stream",
     "text": [
      "81\n4096\n"
     ]
    }
   ],
   "source": [
    "def square(x):\n",
    "    return x*x\n",
    "\n",
    "def twoPower(x,n):\n",
    "    while n > 1:\n",
    "        x = square(x)\n",
    "        n = n/2\n",
    "    return x\n",
    "\n",
    "print(square(9))\n",
    "print(twoPower(8,6))"
   ]
  },
  {
   "cell_type": "code",
   "execution_count": null,
   "metadata": {},
   "outputs": [],
   "source": [
    ""
   ]
  }
 ],
 "metadata": {
  "kernelspec": {
   "display_name": "Python 2",
   "language": "python",
   "name": "python2"
  },
  "language_info": {
   "codemirror_mode": {
    "name": "ipython",
    "version": 2.0
   },
   "file_extension": ".py",
   "mimetype": "text/x-python",
   "name": "python",
   "nbconvert_exporter": "python",
   "pygments_lexer": "ipython2",
   "version": "2.7.6"
  }
 },
 "nbformat": 4,
 "nbformat_minor": 0
}